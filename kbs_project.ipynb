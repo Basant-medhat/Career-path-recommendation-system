{
  "nbformat": 4,
  "nbformat_minor": 0,
  "metadata": {
    "colab": {
      "provenance": []
    },
    "kernelspec": {
      "name": "python3",
      "display_name": "Python 3"
    },
    "language_info": {
      "name": "python"
    }
  },
  "cells": [
    {
      "cell_type": "code",
      "execution_count": 1,
      "metadata": {
        "colab": {
          "base_uri": "https://localhost:8080/"
        },
        "id": "ivc3b6YSs0pa",
        "outputId": "999fed2b-2e0e-4832-f06a-ac720297cffa"
      },
      "outputs": [
        {
          "output_type": "stream",
          "name": "stdout",
          "text": [
            "Collecting experta\n",
            "  Downloading experta-1.9.4-py3-none-any.whl.metadata (5.0 kB)\n",
            "Collecting frozendict==1.2 (from experta)\n",
            "  Downloading frozendict-1.2.tar.gz (2.6 kB)\n",
            "  Preparing metadata (setup.py) ... \u001b[?25l\u001b[?25hdone\n",
            "Collecting schema==0.6.7 (from experta)\n",
            "  Downloading schema-0.6.7-py2.py3-none-any.whl.metadata (14 kB)\n",
            "Downloading experta-1.9.4-py3-none-any.whl (35 kB)\n",
            "Downloading schema-0.6.7-py2.py3-none-any.whl (14 kB)\n",
            "Building wheels for collected packages: frozendict\n",
            "  Building wheel for frozendict (setup.py) ... \u001b[?25l\u001b[?25hdone\n",
            "  Created wheel for frozendict: filename=frozendict-1.2-py3-none-any.whl size=3149 sha256=4ce97bd8b969dadcc8c7f20d6d2e8e5ddfb498316a86d05be4e7198a9931e45b\n",
            "  Stored in directory: /root/.cache/pip/wheels/49/ac/f8/cb8120244e710bdb479c86198b03c7b08c3c2d3d2bf448fd6e\n",
            "Successfully built frozendict\n",
            "Installing collected packages: schema, frozendict, experta\n",
            "  Attempting uninstall: frozendict\n",
            "    Found existing installation: frozendict 2.4.6\n",
            "    Uninstalling frozendict-2.4.6:\n",
            "      Successfully uninstalled frozendict-2.4.6\n",
            "\u001b[31mERROR: pip's dependency resolver does not currently take into account all the packages that are installed. This behaviour is the source of the following dependency conflicts.\n",
            "yfinance 0.2.57 requires frozendict>=2.3.4, but you have frozendict 1.2 which is incompatible.\u001b[0m\u001b[31m\n",
            "\u001b[0mSuccessfully installed experta-1.9.4 frozendict-1.2 schema-0.6.7\n"
          ]
        }
      ],
      "source": [
        "! pip install experta"
      ]
    },
    {
      "cell_type": "code",
      "source": [
        "\n",
        "!pip install frozendict==1.2\n"
      ],
      "metadata": {
        "colab": {
          "base_uri": "https://localhost:8080/"
        },
        "id": "HLSX1lMms9df",
        "outputId": "5312f27e-3ba2-4dff-9fdb-c9be717a3ead"
      },
      "execution_count": 3,
      "outputs": [
        {
          "output_type": "stream",
          "name": "stdout",
          "text": [
            "Requirement already satisfied: frozendict==1.2 in /usr/local/lib/python3.11/dist-packages (1.2)\n"
          ]
        }
      ]
    },
    {
      "cell_type": "code",
      "source": [
        "!pip install frozendict==2.3.8"
      ],
      "metadata": {
        "id": "4-bzZ-CNtO3o",
        "colab": {
          "base_uri": "https://localhost:8080/"
        },
        "outputId": "318b5fcf-cbbc-412c-ef6d-03a71e5819eb"
      },
      "execution_count": 5,
      "outputs": [
        {
          "output_type": "stream",
          "name": "stdout",
          "text": [
            "Collecting frozendict==2.3.8\n",
            "  Downloading frozendict-2.3.8-py311-none-any.whl.metadata (20 kB)\n",
            "Downloading frozendict-2.3.8-py311-none-any.whl (14 kB)\n",
            "Installing collected packages: frozendict\n",
            "  Attempting uninstall: frozendict\n",
            "    Found existing installation: frozendict 1.2\n",
            "    Uninstalling frozendict-1.2:\n",
            "      Successfully uninstalled frozendict-1.2\n",
            "\u001b[31mERROR: pip's dependency resolver does not currently take into account all the packages that are installed. This behaviour is the source of the following dependency conflicts.\n",
            "experta 1.9.4 requires frozendict==1.2, but you have frozendict 2.3.8 which is incompatible.\u001b[0m\u001b[31m\n",
            "\u001b[0mSuccessfully installed frozendict-2.3.8\n"
          ]
        }
      ]
    },
    {
      "cell_type": "code",
      "source": [
        "from experta import Fact, Rule, KnowledgeEngine"
      ],
      "metadata": {
        "id": "2HbcPabaTh1L"
      },
      "execution_count": 7,
      "outputs": []
    },
    {
      "cell_type": "code",
      "source": [
        "# Define input storage\n",
        "answers = {}"
      ],
      "metadata": {
        "id": "9pZ0f229UqtU"
      },
      "execution_count": 8,
      "outputs": []
    },
    {
      "cell_type": "code",
      "source": [
        "# Define facts\n",
        "class StudentFacts(Fact): pass\n"
      ],
      "metadata": {
        "id": "AlYqUB9dVENU"
      },
      "execution_count": 9,
      "outputs": []
    },
    {
      "cell_type": "code",
      "source": [
        "# Define the expert system engine\n",
        "class CareerRecommender(KnowledgeEngine):\n",
        "    def __init__(self):\n",
        "        super().__init__()\n",
        "        self.recommendation = None\n",
        "\n",
        "    @Rule(StudentFacts(personality='logical'),\n",
        "          StudentFacts(subject='math'),\n",
        "          StudentFacts(gpa='yes'),\n",
        "          StudentFacts(interest='tech'),\n",
        "          StudentFacts(environment='indoor'),\n",
        "          StudentFacts(skill='problem-solving'),\n",
        "          StudentFacts(motivation='inventing'),\n",
        "          StudentFacts(goal='stable'))\n",
        "    def recommend_engineering(self):\n",
        "        self.recommendation = \"Engineering\"\n",
        "\n",
        "    @Rule(StudentFacts(personality='emotional'),\n",
        "          StudentFacts(subject='biology'),\n",
        "          StudentFacts(gpa='yes'),\n",
        "          StudentFacts(interest='people'),\n",
        "          StudentFacts(environment='indoor'),\n",
        "          StudentFacts(skill='communication'),\n",
        "          StudentFacts(motivation='helping'),\n",
        "          StudentFacts(goal='help others'))\n",
        "    def recommend_medical(self):\n",
        "        self.recommendation = \"Medical\"\n",
        "\n",
        "    @Rule(StudentFacts(subject='accounting'),\n",
        "          StudentFacts(skill='math'),\n",
        "          StudentFacts(goal='stable'))\n",
        "    def recommend_accounting(self):\n",
        "        self.recommendation = \"Accounting\"\n",
        "\n",
        "    @Rule(StudentFacts(motivation='exploring'),\n",
        "          StudentFacts(environment='outdoor'))\n",
        "    def recommend_explorer(self):\n",
        "        self.recommendation = \"Explorer (Researcher / Field Work)\""
      ],
      "metadata": {
        "id": "NjlD3t3aVF7_"
      },
      "execution_count": 10,
      "outputs": []
    },
    {
      "cell_type": "code",
      "source": [
        "# Define questions\n",
        "questions = [\n",
        "    (\"What's your personality?\", ['logical', 'emotional', 'social', 'practical'], 'personality'),\n",
        "    (\"What's your favorite subject?\", ['math', 'biology', 'accounting', 'history'], 'subject'),\n",
        "    (\"Is your GPA high (above 3.5)?\", ['yes', 'no', 'maybe'], 'gpa'),\n",
        "    (\"Do you prefer working with people or technology?\", ['people', 'tech', 'both'], 'interest'),\n",
        "    (\"Where do you prefer to work?\", ['indoor', 'outdoor', 'lab'], 'environment'),\n",
        "    (\"What’s your strength?\", ['problem-solving', 'creativity', 'communication', 'math'], 'skill'),\n",
        "    (\"What motivates you more?\", ['helping', 'inventing', 'exploring'], 'motivation'),\n",
        "    (\"What’s your long-term goal?\", ['stable', 'help others', 'research', 'own business'], 'goal'),\n",
        "]\n"
      ],
      "metadata": {
        "id": "onv8mexaVKV3"
      },
      "execution_count": 11,
      "outputs": []
    },
    {
      "cell_type": "code",
      "source": [
        "# Ask user questions\n",
        "def ask_user():\n",
        "    print(\"🧠 Student Career Path Recommendation System\\n\")\n",
        "    for i, (question, options, key) in enumerate(questions):\n",
        "        print(f\"{i+1}. {question}\")\n",
        "        for j, opt in enumerate(options, 1):\n",
        "            print(f\"   {j}) {opt}\")\n",
        "        while True:\n",
        "            try:\n",
        "                choice = int(input(\"Enter choice number: \"))\n",
        "                if 1 <= choice <= len(options):\n",
        "                    answers[key] = options[choice - 1]\n",
        "                    break\n",
        "                else:\n",
        "                    print(\"Invalid input. Try again.\")\n",
        "            except:\n",
        "                print(\"Invalid input. Please enter a number.\")\n",
        "        print()"
      ],
      "metadata": {
        "id": "v2zvQKfTVM60"
      },
      "execution_count": 12,
      "outputs": []
    },
    {
      "cell_type": "code",
      "source": [
        "# Run expert system\n",
        "def run_expert_system():\n",
        "    engine = CareerRecommender()\n",
        "    engine.reset()\n",
        "    engine.declare(StudentFacts(**answers))\n",
        "    engine.run()\n",
        "    print(\"✅ Recommendation:\", engine.recommendation or \"No clear recommendation found. Try different answers.\")"
      ],
      "metadata": {
        "id": "l7Oo771jVQDT"
      },
      "execution_count": 13,
      "outputs": []
    },
    {
      "cell_type": "code",
      "source": [
        "ask_user()\n",
        "run_expert_system()"
      ],
      "metadata": {
        "colab": {
          "base_uri": "https://localhost:8080/"
        },
        "id": "sOCqu-01VVH0",
        "outputId": "a7edbe39-3ddb-46f1-ccf5-c9a3c528ab61"
      },
      "execution_count": 15,
      "outputs": [
        {
          "output_type": "stream",
          "name": "stdout",
          "text": [
            "🧠 Student Career Path Recommendation System\n",
            "\n",
            "1. What's your personality?\n",
            "   1) logical\n",
            "   2) emotional\n",
            "   3) social\n",
            "   4) practical\n",
            "Enter choice number: 4\n",
            "\n",
            "2. What's your favorite subject?\n",
            "   1) math\n",
            "   2) biology\n",
            "   3) accounting\n",
            "   4) history\n",
            "Enter choice number: 1\n",
            "\n",
            "3. Is your GPA high (above 3.5)?\n",
            "   1) yes\n",
            "   2) no\n",
            "   3) maybe\n",
            "Enter choice number: 1\n",
            "\n",
            "4. Do you prefer working with people or technology?\n",
            "   1) people\n",
            "   2) tech\n",
            "   3) both\n",
            "Enter choice number: 1\n",
            "\n",
            "5. Where do you prefer to work?\n",
            "   1) indoor\n",
            "   2) outdoor\n",
            "   3) lab\n",
            "Enter choice number: 1\n",
            "\n",
            "6. What’s your strength?\n",
            "   1) problem-solving\n",
            "   2) creativity\n",
            "   3) communication\n",
            "   4) math\n",
            "Enter choice number: 3\n",
            "\n",
            "7. What motivates you more?\n",
            "   1) helping\n",
            "   2) inventing\n",
            "   3) exploring\n",
            "Enter choice number: 1\n",
            "\n",
            "8. What’s your long-term goal?\n",
            "   1) stable\n",
            "   2) help others\n",
            "   3) research\n",
            "   4) own business\n",
            "Enter choice number: 1\n",
            "\n",
            "✅ Recommendation: No clear recommendation found. Try different answers.\n"
          ]
        }
      ]
    },
    {
      "cell_type": "code",
      "source": [],
      "metadata": {
        "id": "DE7r27zFVXeV"
      },
      "execution_count": null,
      "outputs": []
    }
  ]
}